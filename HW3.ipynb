{
 "cells": [
  {
   "cell_type": "code",
   "execution_count": 1,
   "id": "97146f0f",
   "metadata": {},
   "outputs": [
    {
     "data": {
      "text/plain": [
       "[<matplotlib.lines.Line2D at 0x1fcab5035e0>]"
      ]
     },
     "execution_count": 1,
     "metadata": {},
     "output_type": "execute_result"
    },
    {
     "data": {
      "image/png": "[encoded data removed]",
      "text/plain": [
       "<Figure size 432x288 with 1 Axes>"
      ]
     },
     "metadata": {
      "needs_background": "light"
     },
     "output_type": "display_data"
    }
   ],
   "source": [
    "#Question 1:\n",
    "# if we have defined an array table = [None]*(100)\n",
    "import time\n",
    "import matplotlib.pyplot as plt\n",
    "import math\n",
    "import numpy as np\n",
    "\n",
    "def fib3(n, table): # Store the data we already calculated, linear space and time complexity, but still have the stack limit\n",
    "    if n == 0 or n==1:\n",
    "        table[n]=n\n",
    "    \n",
    "    # if the value has not been calculated, calculate it \n",
    "    if table[n] is None:\n",
    "        table[n] = fib3(n-1, table) + fib3(n-2, table) # try this:  please finish this line using recursive method\n",
    "        \n",
    "    return table[n]\n",
    "\n",
    "#plot F(n)/F(n-1),with 1/0 is undefine, we should plot from n=2, and I set up end at n=20\n",
    "x_value=np.arange(2,21,1)#set up x value arry\n",
    "y_value=[]\n",
    "table = [None]*(100)\n",
    "\n",
    "#deposit all y value in y_value arry\n",
    "for i in (np.arange(2,21,1)):\n",
    "   y_value.append(fib3(i,table)/fib3(i-1,table))\n",
    "\n",
    "plt.plot(x_value,y_value)"
   ]
  },
  {
   "cell_type": "code",
   "execution_count": 55,
   "id": "cddd4112",
   "metadata": {},
   "outputs": [
    {
     "name": "stderr",
     "output_type": "stream",
     "text": [
      "C:\\Users\\11063\\AppData\\Local\\Temp\\ipykernel_18020\\1976869193.py:100: RuntimeWarning: divide by zero encountered in log\n",
      "  plt.plot(np.log(fib1_x),np.log(fib1_y),'b',label=\"Recursion\")#due to python work slow for n over 30,I only select n under 30 and this will make time value very small and close to 0 and we cannot find this blue line in one graph\n",
      "C:\\Users\\11063\\AppData\\Local\\Temp\\ipykernel_18020\\1976869193.py:100: RuntimeWarning: invalid value encountered in log\n",
      "  plt.plot(np.log(fib1_x),np.log(fib1_y),'b',label=\"Recursion\")#due to python work slow for n over 30,I only select n under 30 and this will make time value very small and close to 0 and we cannot find this blue line in one graph\n",
      "C:\\Users\\11063\\AppData\\Local\\Temp\\ipykernel_18020\\1976869193.py:101: RuntimeWarning: divide by zero encountered in log\n",
      "  plt.plot(np.log(fib2_x),np.log(fib2_y),'g',label=\"Tabulation\")\n",
      "C:\\Users\\11063\\AppData\\Local\\Temp\\ipykernel_18020\\1976869193.py:102: RuntimeWarning: invalid value encountered in log\n",
      "  plt.plot(np.log(fib3_x),np.log(fib3_y),'y',label=\"Matrix\")\n"
     ]
    },
    {
     "data": {
      "image/png": "[encoded data removed]",
      "text/plain": [
       "<Figure size 432x288 with 1 Axes>"
      ]
     },
     "metadata": {
      "needs_background": "light"
     },
     "output_type": "display_data"
    }
   ],
   "source": [
    "import time\n",
    "import numpy as np\n",
    "import matplotlib.pyplot as plt\n",
    "\n",
    "#Recursion method:\n",
    "def fib1(n): \n",
    "    if n == 0: return 0\n",
    "    elif n == 1: return 1\n",
    "    else: return fib1(n-1)+fib1(n-2)\n",
    "\n",
    "x1=[]#list for write\n",
    "y1=[]#list for write\n",
    "fib1_x=[]#list for read\n",
    "fib1_y=[]#list for read\n",
    "\n",
    "for i in [1,10,20,30]:\n",
    "    start_time=time.time()\n",
    "    fib1(i)\n",
    "    end_time=time.time()\n",
    "    y1.append(str(start_time-end_time))\n",
    "    x1.append(str(i))\n",
    "#end 1st method\n",
    "\n",
    "#Tabulation Method\n",
    "def fib2(n):\n",
    "    table=[0]*(n+1)\n",
    "    table[1] = 1\n",
    "       \n",
    "    for i in range (2,n+1):\n",
    "        table[i] = table[i-1] + table[i-2]\n",
    "        \n",
    "    return table[n]\n",
    "\n",
    "x2=[]#list for write\n",
    "y2=[]#list for write\n",
    "fib2_x=[]#list for read\n",
    "fib2_y=[]#list for read\n",
    "\n",
    "for i in [500,600,700,800]:\n",
    "    start_time=time.time()\n",
    "    fib2(i)\n",
    "    end_time=time.time()\n",
    "    y2.append(str(start_time-end_time))\n",
    "    x2.append(str(i))\n",
    "#end 2nd method    \n",
    "\n",
    "#Matrix Method\n",
    "def arrpow(arr, n):\n",
    "    yarr=arr\n",
    "    if n<1:\n",
    "        print('n needs to be larger than 1')\n",
    "    if n==1:\n",
    "        return arr\n",
    "    yarr = arrpow(arr, n//2)\n",
    "    yarr = [[yarr[0][0]*yarr[0][0]+yarr[0][1]*yarr[1][0],yarr[0][0]*yarr[0][1]+yarr[0][1]*yarr[1][1]],\n",
    "            [yarr[1][0]*yarr[0][0]+yarr[1][1]*yarr[1][0],yarr[1][0]*yarr[0][1]+yarr[1][1]*yarr[1][1]]]\n",
    "    if n%2:\n",
    "        yarr=[[yarr[0][0]*arr[0][0]+yarr[0][1]*arr[1][0],yarr[0][0]*arr[0][1]+yarr[0][1]*arr[1][1]],\n",
    "            [yarr[1][0]*arr[0][0]+yarr[1][1]*arr[1][0],yarr[1][0]*arr[0][1]+yarr[1][1]*arr[1][1]]]\n",
    "    return yarr\n",
    "\n",
    "def fib3(n):\n",
    "    arr= [[1,1],[1,0]]\n",
    "    f=arrpow(arr,n-1)[0][0]\n",
    "    return f\n",
    "\n",
    "x3=[]#list for write\n",
    "y3=[]#list for write\n",
    "fib2_3=[]#list for read\n",
    "fib2_3=[]#list for read\n",
    "\n",
    "for i in [1000,10000,12000,13000]:\n",
    "    start_time=time.time()\n",
    "    fib3(i)\n",
    "    end_time=time.time()\n",
    "    y3.append(str(start_time-end_time))\n",
    "    x3.append(str(i))\n",
    "#end 3rd method\n",
    "\n",
    "#write 3 type of fib function value in to fib_data.tab file\n",
    "with open('fib_data.tab', 'w') as f:\n",
    "    lst = [x1,y1,x2,y2,x3,y3]\n",
    "    for x in zip(*lst):\n",
    "        f.write(\"{0}\\t{1}\\t{2}\\t{3}\\t{4}\\t{5}\\n\".format(*x))#make n as odd coloum, and time as even coloum\n",
    "\n",
    "#read data from file from which we make ahead\n",
    "file1=open(\"fib_data.tab\", \"r\")\n",
    "for line in file1: # Loop through every line in the file\n",
    "    line = line.strip() # The strip() removes characters from both left and right \n",
    "    columns = line.split() # Split the string into many columns\n",
    "    fib1_x= np.append(x1v,float(columns[0])) # convert the column into floating numbers\n",
    "    fib1_y = np.append(rho,float(columns[1])) \n",
    "    fib2_x= np.append(x1v,float(columns[2]))\n",
    "    fib2_y= np.append(x1v,float(columns[3]))\n",
    "    fib3_x= np.append(x1v,float(columns[4]))\n",
    "    fib3_y= np.append(x1v,float(columns[5]))\n",
    "file1.close()\n",
    "\n",
    "#Graph\n",
    "plt.plot(np.log(fib1_x),np.log(fib1_y),'b',label=\"Recursion\")#due to python work slow for n over 30,I only select n under 30 and this will make time value very small and close to 0 and we cannot find this blue line in one graph \n",
    "plt.plot(np.log(fib2_x),np.log(fib2_y),'g',label=\"Tabulation\")\n",
    "plt.plot(np.log(fib3_x),np.log(fib3_y),'y',label=\"Matrix\")\n",
    "plt.legend()\n",
    "plt.show()"
   ]
  },
  {
   "cell_type": "markdown",
   "id": "acd7cdf1",
   "metadata": {},
   "source": [
    "Recursion method:The speed is the slowest, and repeated calculations are performed many times during downward calculations, resulting in numbers above 30 may cause python to fail to run.\n",
    "\n",
    "Tabulation Method：It is enough to perform one calculation without repeating the calculation of the same function. When the first operation is successful, the second operation of the same n is performed, and the time used is 0s.\n",
    "\n",
    "Matrix Method:There is basically no difference with Tabulation when the number is not large enough."
   ]
  },
  {
   "cell_type": "code",
   "execution_count": null,
   "id": "75a6a4e2",
   "metadata": {},
   "outputs": [],
   "source": []
  }
 ],
 "metadata": {
  "kernelspec": {
   "display_name": "Python 3 (ipykernel)",
   "language": "python",
   "name": "python3"
  },
  "language_info": {
   "codemirror_mode": {
    "name": "ipython",
    "version": 3
   },
   "file_extension": ".py",
   "mimetype": "text/x-python",
   "name": "python",
   "nbconvert_exporter": "python",
   "pygments_lexer": "ipython3",
   "version": "3.9.12"
  }
 },
 "nbformat": 4,
 "nbformat_minor": 5
}
