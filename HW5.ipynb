{
 "cells": [
  {
   "cell_type": "code",
   "execution_count": 37,
   "id": "5e8a4b4f",
   "metadata": {},
   "outputs": [
    {
     "name": "stdout",
     "output_type": "stream",
     "text": [
      "2 3\n"
     ]
    }
   ],
   "source": [
    "import sympy as sp\n",
    "import numpy as np\n",
    "\n",
    "#set x1,x2 as independent variable，f1 and f2 are original function\n",
    "x1,x2 =sp.symbols('x1 x2')\n",
    "f1=x1**2+x1*x2-10\n",
    "f2=x2+3*x1*x2**2-57\n",
    "\n",
    "#partial derivative function，function diff(_,_) first '_' is original function, second '_' is partial derivative object\n",
    "a=sp.diff(f1,x1)\n",
    "b=sp.diff(f1,x2)\n",
    "c=sp.diff(f2,x1)\n",
    "d=sp.diff(f2,x2)\n",
    "\n",
    "#solution for dx_i\n",
    "dx1=(b*f2-d*f1)/(a*d-b*c)\n",
    "dx2=(c*f1-a*f2)/(a*d-b*c)\n",
    "\n",
    "#eps value used to stop for loop,x_1 and x_2 is guess x1 and x2 initial value\n",
    "eps=1e-6\n",
    "x_1=1\n",
    "x_2=1\n",
    "\n",
    "for i in range (0,100):\n",
    "    \n",
    "    #float() fuction is sub x1 and x2 exact value to f1,f2,a,b,c,d function, and x1_new=x1_old+dx1,x2_new=x2_old+dx1\n",
    "    x_1+=float(dx1.evalf(subs={x1:x_1,x2:x_2}))\n",
    "    x_2+=float(dx2.evalf(subs={x1:x_1,x2:x_2}))\n",
    "    \n",
    "    #sub new  x_1 tand new x_2 to x1, x2 \n",
    "    f1_value=float(f1.evalf(subs={x1:x_1,x2:x_2}))\n",
    "    f2_value=float(f2.evalf(subs={x1:x_1,x2:x_2}))\n",
    "    if f1_value<eps and f2_value<eps:\n",
    "        print(round(x_1),round(x_2))\n",
    "        break"
   ]
  },
  {
   "cell_type": "code",
   "execution_count": null,
   "id": "c91189d8",
   "metadata": {},
   "outputs": [],
   "source": []
  }
 ],
 "metadata": {
  "kernelspec": {
   "display_name": "Python 3 (ipykernel)",
   "language": "python",
   "name": "python3"
  },
  "language_info": {
   "codemirror_mode": {
    "name": "ipython",
    "version": 3
   },
   "file_extension": ".py",
   "mimetype": "text/x-python",
   "name": "python",
   "nbconvert_exporter": "python",
   "pygments_lexer": "ipython3",
   "version": "3.9.12"
  }
 },
 "nbformat": 4,
 "nbformat_minor": 5
}
